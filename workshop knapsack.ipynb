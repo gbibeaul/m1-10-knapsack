{
 "cells": [
  {
   "cell_type": "markdown",
   "metadata": {},
   "source": [
    "## Knapsack Problem\n",
    "\n",
    "The *knapsack problem*:  given a set of integers $S = \\{s_1, s_2, \\ldots, s_n\\}$ and a target number $T$, find a subset (i.e., knapsack) of $S$ which adds up exactly to $T$.  \n",
    "\n",
    "For example, if $S = \\{1,2,5, 9, 10\\}$, there is a subset that adds up to $T = 22$, but not to $T = 23$.  Complete the following tasks related to this problem."
   ]
  },
  {
   "cell_type": "markdown",
   "metadata": {},
   "source": [
    "# 1. \n",
    "\n",
    "Find a subset of $S = \\{1,2,5, 9, 10\\}$ with sum $T = 22$.  Explain the process (algorithm) you used mentally to find the subset.  Then apply the same process in an attempt to find a subset with sum $T = 23$.  \n",
    "\n",
    "How do you know there is no such subset?"
   ]
  },
  {
   "source": [
    "## Answer #1\n",
    "\n",
    "1. add up all the elements in the set  sum(s) = 27\n",
    "1. find the difference of the sum above and T: 27-22 = 5\n",
    "1. find any subset that are sumed up to the answer above : {5}\n",
    "\n",
    "23 does not work because no subset equal the required difference"
   ],
   "cell_type": "markdown",
   "metadata": {}
  },
  {
   "cell_type": "markdown",
   "metadata": {
    "collapsed": true
   },
   "source": [
    "# 2.\n",
    "\n",
    "Consider the following possible algorithm for the knapsack problem, written in psuedocode: \n",
    "```python\n",
    "knapsack(S[], T):\n",
    "    K = empty\n",
    "    for each i < size(S)\n",
    "        if sum(K) + S[i] <= T, put S[i] into K\n",
    "    if sum(K) = T, return K, else return False.\n",
    "```\n",
    "**a)** Describe what this algorithm does in English.  \n",
    "\n",
    "**b)** Implement this algorithm in Python and run it on the $S$ and $T$ above.\n",
    "\n",
    "\n",
    "**c)** Prove that this algorithm is NOT correct.  That is, find a counterexample: a set $S$ and number $T$ for which there is a solution, but not one that the algorithm finds.\n",
    "\n",
    "**d)** Verify that this particular $S$ and $T$ does not give the right output when entered to your Python program."
   ]
  },
  {
   "source": [
    "## Answer #2\n",
    "\n",
    "### a) \n",
    "1. the algorithm instantiates and empty bag\n",
    "1. it goes over all the available item one by one\n",
    "1. if it finds that it has place to put the current item in the bag, it puts the item in the bag\n",
    "1. at the end it checks if all the items is has accumulated hit fit the target. \n",
    "\n",
    "### b) and c) and d)"
   ],
   "cell_type": "markdown",
   "metadata": {}
  },
  {
   "cell_type": "code",
   "execution_count": 5,
   "metadata": {},
   "outputs": [
    {
     "output_type": "stream",
     "name": "stdout",
     "text": [
      "for [1,2,5,9,10] T=22 the algorithm fails and returns False\n"
     ]
    }
   ],
   "source": [
    "def bad_knapsack(S, T):\n",
    "    k = []\n",
    "    for i in range(len(S)):\n",
    "        if (sum(k) + S[i] <= T):\n",
    "            k = [*k, i]\n",
    "    if(sum(k) == T):\n",
    "        return k\n",
    "    return False\n",
    "\n",
    "print(f\"for [1,2,5,9,10] T=22 the algorithm fails and returns {bad_knapsack([1,2,5,9,10], 22)}\")"
   ]
  },
  {
   "cell_type": "markdown",
   "metadata": {},
   "source": [
    "# 3. \n",
    "\n",
    "Another try: What if you put the elements in the knapsack from largest to smallest?  Check that this too is not a correct algorithm."
   ]
  },
  {
   "cell_type": "code",
   "execution_count": 8,
   "metadata": {},
   "outputs": [
    {
     "output_type": "stream",
     "name": "stdout",
     "text": [
      "for [10,9,5,2,1] T=22 the algorithm fails and returns False\n"
     ]
    }
   ],
   "source": [
    "def bad_knapsack(S, T):\n",
    "    k = []\n",
    "    for i in range(len(S)):\n",
    "        if (sum(k) + S[i] <= T):\n",
    "            k = [*k, i]\n",
    "    if(sum(k) == T):\n",
    "        return k\n",
    "    return False\n",
    "\n",
    "print(f\"for [10,9,5,2,1] T=22 the algorithm fails and returns {bad_knapsack([10,9,5,2,1], 22)}\")"
   ]
  },
  {
   "cell_type": "markdown",
   "metadata": {},
   "source": [
    "# 4.\n",
    "\n",
    "Describe a correct algorithm for the knapsack problem (that we haven't seen in class), both in English and in pseudocode.  Then implement the algorithm in Python.  Explain how you know your algorithm is correct (even if it might not be efficient)."
   ]
  },
  {
   "cell_type": "code",
   "execution_count": 65,
   "metadata": {},
   "outputs": [
    {
     "output_type": "execute_result",
     "data": {
      "text/plain": [
       "False"
      ]
     },
     "metadata": {},
     "execution_count": 65
    }
   ],
   "source": [
    "def recursive_pick_best(S,T,K=[]):\n",
    "    # stop condition: no more number to refuse/accept\n",
    "    if(len(S) == 0):\n",
    "        return K\n",
    "\n",
    "    # current item is over the remaining capacity. Refuse it\n",
    "    if(S[0] > T):\n",
    "        return recursive_knapsack(S[1:], T, K)\n",
    "\n",
    "    # left with acceptable solution. Branch off refusing/accepting to find best course\n",
    "    pick = recursive_knapsack(S[1:], T - S[0], [*K, S[0]])\n",
    "    refuse = recursive_knapsack(S[1:], T, K)\n",
    "    # keep the best course of action\n",
    "    if(sum(pick) > sum(refuse)):\n",
    "        return pick\n",
    "    return refuse\n",
    "\n",
    "def ks(S,T):\n",
    "    results = recursive_pick_best(S, T)\n",
    "    return results if sum(results) == T else False\n",
    "\n",
    "\n",
    "\n",
    "ks([3,2], 4)"
   ]
  },
  {
   "cell_type": "markdown",
   "metadata": {
    "collapsed": true
   },
   "source": [
    "# 5. Generating correct change\n",
    "\n",
    "Now, we will be making change using the fewest coins. \n",
    "\n",
    "Suppose you are a programmer for a vending machine manufacturer. Your company wants to streamline effort by giving out the fewest possible coins in change for each transaction. Suppose a customer puts in a dollar bill and purchases an item for 37 cents. What is the smallest number of coins you can use to make change? The answer is six coins: two quarters, one dime, and three pennies. \n",
    "\n",
    "How did we arrive at the answer of six coins? We start with the largest coin in our arsenal (a quarter) and use as many of those as possible, then we go to the next lowest coin value and use as many of those as possible. This is the greedy algorithm for change-making.\n",
    "\n",
    "**Question:** Write the greedy algorithm for change making.\n",
    "\n",
    "The input is the amount of change to generate (in pennies) and a list of coin sizes (in pennies)\n",
    "\n",
    "The output is the minimum number of coins to gener\n",
    "\n",
    "```\n",
    "# buys with 1 dollar for 37 pennies\n",
    "# Second argument says we can give quarters, dimes, nickels and pennies\n",
    "make_change(100 - 37, [25, 10, 5, 1])\n",
    "\n",
    "# 2 quarters, one dime, and three pennies\n",
    "output --> 6 # Output would be equivalent to the choices [2, 1, 0, 3]\n",
    "```"
   ]
  },
  {
   "cell_type": "code",
   "execution_count": null,
   "metadata": {},
   "outputs": [],
   "source": []
  },
  {
   "cell_type": "code",
   "execution_count": 108,
   "metadata": {},
   "outputs": [
    {
     "output_type": "stream",
     "name": "stdout",
     "text": [
      "[[25, 1, 1, 1, 1, 1], [15, 15], [1, 1, 1, 1, 1, 1, 1, 1, 1, 1, 1, 1, 1, 1, 1, 1, 1, 1, 1, 1, 1, 1, 1, 1, 1, 1, 1, 1, 1, 1]]\n"
     ]
    },
    {
     "output_type": "execute_result",
     "data": {
      "text/plain": [
       "[15, 15]"
      ]
     },
     "metadata": {},
     "execution_count": 108
    }
   ],
   "source": [
    "\n",
    "# this is gonna be some ugly shit... why are you making me do this\n",
    "# assuming ordered coins from biggest to smallest\n",
    "def make_change(change_to_give, denominations=[25, 10, 5, 1]):\n",
    "        #  check our coins like a granny at the cashier\n",
    "        coins = []\n",
    "        # get the biggest coins first from the bottom of the purse\n",
    "        current_coin_index = 0\n",
    "        # ensure we are honest and give back the full amount\n",
    "        amount_left = change_to_give\n",
    "        while(amount_left != 0):\n",
    "            if(denominations[current_coin_index] > amount_left):\n",
    "                current_coin_index = current_coin_index + 1\n",
    "                continue\n",
    "            coins = [*coins, denominations[current_coin_index]]\n",
    "            amount_left = amount_left - denominations[current_coin_index]\n",
    "        return coins\n",
    "        \n",
    "def make_change_greedy(change_to_give, denominations=[25, 10, 5, 1]):\n",
    "    solutions = [make_change(change_to_give, denominations[i:]) for i in range(len(denominations))]\n",
    "    print(solutions)\n",
    "    result = solutions[0]\n",
    "    for solution in solutions:\n",
    "        if (len(result) > len(solution)):\n",
    "            result = solution\n",
    "    return result\n",
    "    \n",
    "    \n",
    "make_change_greedy(30, [25, 15, 1])\n",
    "    "
   ]
  },
  {
   "cell_type": "markdown",
   "metadata": {},
   "source": [
    "# 6 Recursive change\n",
    "\n",
    "Write the greedy change making algorithm using recursion"
   ]
  },
  {
   "cell_type": "code",
   "execution_count": 111,
   "metadata": {},
   "outputs": [
    {
     "output_type": "execute_result",
     "data": {
      "text/plain": [
       "[25, 25, 15, 1, 1, 1]"
      ]
     },
     "metadata": {},
     "execution_count": 111
    }
   ],
   "source": [
    "import numpy as np\n",
    "\n",
    "# assuming ordered coins from biggest to smallest\n",
    "def make_change_recursive(change_to_give, denominations=[25, 10, 5, 1], coins=[]):\n",
    "        # todo handle no denominations of 1\n",
    "            # if no change to give hand out coins\n",
    "            if(change_to_give is 0):\n",
    "                return coins\n",
    "            # if can't give current coin recursively give change\n",
    "            if(denominations[0] > change_to_give):\n",
    "                return make_change_recursive(change_to_give, denominations[1:], coins)\n",
    "\n",
    "            # continue handing out current coin if all good\n",
    "            return make_change_recursive(change_to_give - denominations[0], denominations, [*coins, denominations[0]])\n",
    "    \n",
    "# boom coins\n",
    "# this is shamefull code...\n",
    "def best_soluton_greedy(change_to_give, denominations=[25, 10, 5, 1]):\n",
    "    solutions = [make_change_recursive(change_to_give, denominations[i:]) for i in range(len(denominations))]\n",
    "    result = solutions[0]\n",
    "    for solution in solutions:\n",
    "        if (len(result) > len(solution)):\n",
    "            result = solution\n",
    "    return result\n",
    "\n",
    "best_soluton_greedy(68, [1, 5, 8]) "
   ]
  },
  {
   "cell_type": "code",
   "execution_count": 234,
   "metadata": {},
   "outputs": [
    {
     "output_type": "execute_result",
     "data": {
      "text/plain": [
       "[8, 8, 8, 5, 1]"
      ]
     },
     "metadata": {},
     "execution_count": 234
    }
   ],
   "source": [
    "# dynamic version:\n",
    "# assumes 1 is always possible denomination.\n",
    "def make_change_dynamic(change_to_give, denominations):\n",
    "    if(len(denominations) == 1):\n",
    "        return [denominations[0] for e in range(change_to_give)]\n",
    "    index = 1\n",
    "    current_memo_index = 0\n",
    "    memo = {\n",
    "        0: [],\n",
    "        1: [1]\n",
    "    }\n",
    "\n",
    "    while(index <= change_to_give):\n",
    "        # memoize denominations since they are the fastest way to hand out themselves\n",
    "        if(index == denominations[current_memo_index] and index < denominations[-1]):\n",
    "            # print(index)\n",
    "            memo[index] = [index]\n",
    "            current_memo_index = current_memo_index + 1\n",
    "            index = index + 1\n",
    "            continue\n",
    "        \n",
    "        # use prevoious memo results on differences\n",
    "        memo[index] = [*memo[denominations[current_memo_index -1]], *memo[index - denominations[current_memo_index -1]]]\n",
    "        index = index + 1\n",
    "\n",
    "\n",
    "    return memo[change_to_give]\n",
    "\n",
    "\n",
    "\n",
    "make_change_dynamic(30, [1, 5, 8,11])"
   ]
  },
  {
   "cell_type": "code",
   "execution_count": null,
   "metadata": {},
   "outputs": [],
   "source": []
  }
 ],
 "metadata": {
  "kernelspec": {
   "display_name": "Python 3",
   "language": "python",
   "name": "python3"
  },
  "language_info": {
   "codemirror_mode": {
    "name": "ipython",
    "version": 3
   },
   "file_extension": ".py",
   "mimetype": "text/x-python",
   "name": "python",
   "nbconvert_exporter": "python",
   "pygments_lexer": "ipython3",
   "version": "3.8.3-final"
  }
 },
 "nbformat": 4,
 "nbformat_minor": 1
}